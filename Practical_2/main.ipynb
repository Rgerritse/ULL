{
 "cells": [
  {
   "cell_type": "code",
   "execution_count": 50,
   "metadata": {},
   "outputs": [],
   "source": [
    "with open(\"data/wa/dev.en\") as f:\n",
    "    tokens = f.read().split()\n",
    "#     lines = [line.split() for line in f.readlines()]"
   ]
  },
  {
   "cell_type": "code",
   "execution_count": 66,
   "metadata": {},
   "outputs": [
    {
     "name": "stdout",
     "output_type": "stream",
     "text": [
      "of each\n",
      "them each\n",
      "each of\n",
      "them of\n",
      "is of\n",
      "each them\n",
      "of them\n",
      "is them\n",
      "very them\n",
      "of is\n"
     ]
    }
   ],
   "source": [
    "window = 2\n",
    "\n",
    "vocab = list(set(words))\n",
    "w2i = {k: v for v, k in enumerate(vocab)}\n",
    "i2w = {v: k for v, k in enumerate(vocab)}\n",
    "\n",
    "data = []\n",
    "labels = []\n",
    "for i in range(len(tokens)):\n",
    "    for j in range(i-window, i+window+1):\n",
    "        if i != j and j>=0 and j<len(tokens):\n",
    "            data.append(w2i[tokens[j]])\n",
    "            labels.append(w2i[tokens[i]])"
   ]
  },
  {
   "cell_type": "code",
   "execution_count": 34,
   "metadata": {},
   "outputs": [
    {
     "name": "stdout",
     "output_type": "stream",
     "text": [
      "-2\n",
      "-1\n",
      "1\n",
      "2\n"
     ]
    }
   ],
   "source": [
    "window = 2\n",
    "i = 0\n",
    "for j in range(i-window, i+window+1):\n",
    "    if i != j:\n",
    "        print(j)\n"
   ]
  }
 ],
 "metadata": {
  "kernelspec": {
   "display_name": "Python 3",
   "language": "python",
   "name": "python3"
  },
  "language_info": {
   "codemirror_mode": {
    "name": "ipython",
    "version": 3
   },
   "file_extension": ".py",
   "mimetype": "text/x-python",
   "name": "python",
   "nbconvert_exporter": "python",
   "pygments_lexer": "ipython3",
   "version": "3.5.2"
  }
 },
 "nbformat": 4,
 "nbformat_minor": 2
}
