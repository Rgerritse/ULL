{
 "cells": [
  {
   "cell_type": "code",
   "execution_count": 2,
   "metadata": {},
   "outputs": [],
   "source": [
    "import gensim\n",
    "from gensim.models import KeyedVectors\n",
    "from operator import itemgetter\n",
    "from tqdm import tqdm"
   ]
  },
  {
   "cell_type": "code",
   "execution_count": 3,
   "metadata": {},
   "outputs": [],
   "source": [
    "embeddings = ['deps', 'bow2', 'bow5']\n",
    "models = {x: KeyedVectors.load_word2vec_format('{}.words'.format(x)) for x in embeddings}"
   ]
  },
  {
   "cell_type": "code",
   "execution_count": null,
   "metadata": {},
   "outputs": [],
   "source": [
    "from sklearn.cluster import KMeans\n",
    "from sklearn.manifold import TSNE\n",
    "\n",
    "from bokeh.models import ColumnDataSource, LabelSet\n",
    "from bokeh.plotting import figure, show, output_file\n",
    "from bokeh.palettes import d3\n",
    "from bokeh.io import output_notebook\n",
    "from bokeh.layouts import column\n",
    "\n",
    "output_file(\"cluster-output.html\")\n",
    "\n",
    "def get_model_plot(name, model, words, N=20, perplexity=30.0):\n",
    "    word_list = []\n",
    "    vectors = []\n",
    "    for word in words:\n",
    "        if word in model.vocab:\n",
    "            word_list.append(word)\n",
    "            vectors.append(model[word])\n",
    "    \n",
    "    kmeans = KMeans(n_clusters=N)\n",
    "    kmeans.fit(vectors)\n",
    "    clusters = kmeans.labels_\n",
    "\n",
    "    tsne = TSNE(n_components=2, perplexity=perplexity)\n",
    "    tsne_vectors = tsne.fit_transform(vectors)\n",
    "    \n",
    "    p = figure(tools=\"pan,wheel_zoom,reset,save\",\n",
    "               toolbar_location=\"above\",\n",
    "               title=\"T-SNE for 2000 nouns with {}.words\".format(name))\n",
    "\n",
    "    colormap = d3['Category20'][N]\n",
    "    colors = [colormap[i%20] for i in clusters]\n",
    "\n",
    "    source = ColumnDataSource(data=dict(x1=tsne_vectors[:,0],\n",
    "                                        x2=tsne_vectors[:,1],\n",
    "                                        names=word_list,\n",
    "                                        colors=colors))\n",
    "\n",
    "    p.scatter(x=\"x1\", y=\"x2\", size=8, source=source, color='colors')\n",
    "\n",
    "    labels = LabelSet(x=\"x1\", y=\"x2\", text=\"names\", y_offset=6,\n",
    "                      text_font_size=\"8pt\", text_color=\"#555555\",\n",
    "                      source=source, text_align='center')\n",
    "    p.add_layout(labels)\n",
    "\n",
    "    return p\n",
    "\n",
    "N = 20\n",
    "\n",
    "with open(\"2000_nouns_sorted.txt\") as file: \n",
    "    words = [x.strip() for x in file.readlines()] \n",
    "\n",
    "p_list = []\n",
    "for name, model in models.items():\n",
    "    p_list.append(get_model_plot(name, model, words))\n",
    "show(column(p_list))"
   ]
  },
  {
   "cell_type": "code",
   "execution_count": 4,
   "metadata": {},
   "outputs": [
    {
     "data": {
      "text/plain": [
       "{'bow2': <gensim.models.keyedvectors.Word2VecKeyedVectors at 0x7f337a263438>,\n",
       " 'bow5': <gensim.models.keyedvectors.Word2VecKeyedVectors at 0x7f336b918e48>,\n",
       " 'deps': <gensim.models.keyedvectors.Word2VecKeyedVectors at 0x7f33c17959b0>}"
      ]
     },
     "execution_count": 4,
     "metadata": {},
     "output_type": "execute_result"
    }
   ],
   "source": []
  },
  {
   "cell_type": "code",
   "execution_count": 33,
   "metadata": {},
   "outputs": [
    {
     "data": {
      "text/plain": [
       "0.2699586525433222"
      ]
     },
     "execution_count": 33,
     "metadata": {},
     "output_type": "execute_result"
    }
   ],
   "source": []
  },
  {
   "cell_type": "code",
   "execution_count": null,
   "metadata": {},
   "outputs": [],
   "source": []
  }
 ],
 "metadata": {
  "kernelspec": {
   "display_name": "Python 3",
   "language": "python",
   "name": "python3"
  },
  "language_info": {
   "codemirror_mode": {
    "name": "ipython",
    "version": 3
   },
   "file_extension": ".py",
   "mimetype": "text/x-python",
   "name": "python",
   "nbconvert_exporter": "python",
   "pygments_lexer": "ipython3",
   "version": "3.5.2"
  }
 },
 "nbformat": 4,
 "nbformat_minor": 2
}
